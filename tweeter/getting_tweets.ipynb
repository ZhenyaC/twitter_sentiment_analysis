{
 "cells": [
  {
   "cell_type": "code",
   "execution_count": 4,
   "id": "02dcb28e",
   "metadata": {},
   "outputs": [],
   "source": [
    "import pandas as pd\n",
    "import tweepy as tw\n",
    "import os\n",
    "from tqdm import tqdm\n",
    "import json"
   ]
  },
  {
   "cell_type": "code",
   "execution_count": 5,
   "id": "06a1847d",
   "metadata": {},
   "outputs": [],
   "source": [
    "with open(\"keys.json\") as fi:\n",
    "    key = json.load(fi)"
   ]
  },
  {
   "cell_type": "code",
   "execution_count": 6,
   "id": "30ec2375",
   "metadata": {},
   "outputs": [],
   "source": [
    "BEARER_TOKEN = key[\"BEARER_TOKEN\"]"
   ]
  },
  {
   "cell_type": "code",
   "execution_count": 7,
   "id": "54f3dcd1",
   "metadata": {},
   "outputs": [],
   "source": [
    "client = tw.Client(BEARER_TOKEN)"
   ]
  },
  {
   "cell_type": "code",
   "execution_count": 8,
   "id": "975a632c",
   "metadata": {},
   "outputs": [],
   "source": [
    "query = '(wear a mask OR mask mandate OR masking OR mask mandate expiration OR end mask madate OR anti-mask)-is:retweet'"
   ]
  },
  {
   "cell_type": "code",
   "execution_count": 9,
   "id": "c76bf0a1",
   "metadata": {},
   "outputs": [],
   "source": [
    "response = client.search_recent_tweets(query)"
   ]
  },
  {
   "cell_type": "markdown",
   "id": "09afb809",
   "metadata": {},
   "source": [
    "GETTING MORE THAN 1000 TWEETS USING PAGINATOR"
   ]
  },
  {
   "cell_type": "code",
   "execution_count": 71,
   "id": "0a8a1a64",
   "metadata": {},
   "outputs": [],
   "source": [
    "start_time = '2022-06-5T03:00:00Z'\n",
    "end_time = '2022-06-6T03:00:00Z'"
   ]
  },
  {
   "cell_type": "code",
   "execution_count": 72,
   "id": "6f42e87f",
   "metadata": {},
   "outputs": [],
   "source": [
    "tweets = []\n",
    "for tweet in tw.Paginator(client.search_recent_tweets, query = query, tweet_fields=['author_id','created_at','geo','public_metrics','lang','source'], \n",
    "                              user_fields=['profile_image_url', 'public_metrics', 'location'], place_fields=['full_name','place_type', 'geo','country','name'], expansions = 'geo.place_id', start_time = start_time, end_time = end_time, max_results =100).flatten(limit =10000):\n",
    "        tweets.append(tweet.data)\n",
    "        \n",
    "filepath = f\"tweet_{start_time}.json\"     \n",
    "with open(filepath, 'w', encoding='utf8') as file:\n",
    "    json.dump(tweets,file)\n"
   ]
  },
  {
   "cell_type": "code",
   "execution_count": 73,
   "id": "d7f12b53",
   "metadata": {},
   "outputs": [
    {
     "data": {
      "text/plain": [
       "6094"
      ]
     },
     "execution_count": 73,
     "metadata": {},
     "output_type": "execute_result"
    }
   ],
   "source": [
    "len(tweets)"
   ]
  },
  {
   "cell_type": "code",
   "execution_count": 74,
   "id": "79266fe9",
   "metadata": {},
   "outputs": [
    {
     "data": {
      "text/plain": [
       "'Americans see *some* Asian countries where people do *voluntary* masking and use it as an example for permanent, mandatory masking'"
      ]
     },
     "execution_count": 74,
     "metadata": {},
     "output_type": "execute_result"
    }
   ],
   "source": [
    "tweets[5]['text']"
   ]
  },
  {
   "cell_type": "code",
   "execution_count": null,
   "id": "32c0f4b2",
   "metadata": {},
   "outputs": [],
   "source": []
  }
 ],
 "metadata": {
  "kernelspec": {
   "display_name": "Python 3 (ipykernel)",
   "language": "python",
   "name": "python3"
  },
  "language_info": {
   "codemirror_mode": {
    "name": "ipython",
    "version": 3
   },
   "file_extension": ".py",
   "mimetype": "text/x-python",
   "name": "python",
   "nbconvert_exporter": "python",
   "pygments_lexer": "ipython3",
   "version": "3.9.7"
  }
 },
 "nbformat": 4,
 "nbformat_minor": 5
}
